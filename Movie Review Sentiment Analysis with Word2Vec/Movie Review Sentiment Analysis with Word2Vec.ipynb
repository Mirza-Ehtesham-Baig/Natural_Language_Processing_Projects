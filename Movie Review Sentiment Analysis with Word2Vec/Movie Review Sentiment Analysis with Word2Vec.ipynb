{
 "cells": [
  {
   "cell_type": "markdown",
   "id": "7344bce8",
   "metadata": {
    "papermill": {
     "duration": 0.028028,
     "end_time": "2021-11-05T19:29:34.645324",
     "exception": false,
     "start_time": "2021-11-05T19:29:34.617296",
     "status": "completed"
    },
    "tags": []
   },
   "source": [
    "## Dataset Description\n",
    "\n",
    "The labeled data set consists of 50,000 IMDB movie reviews, specially selected for sentiment analysis. The sentiment of reviews is binary, meaning the IMDB rating < 5 results in a sentiment score of 0, and rating >=7 have a sentiment score of 1. No individual movie has more than 30 reviews. The 25,000 review labeled training set does not include any of the same movies as the 25,000 review test set. In addition, there are another 50,000 IMDB reviews provided without any rating labels."
   ]
  },
  {
   "cell_type": "markdown",
   "id": "6739c4de-d7a0-4e12-9c95-a2f68ad1d024",
   "metadata": {},
   "source": [
    "## Data fields\n",
    "\n",
    "id - Unique ID of each review\n",
    "\n",
    "sentiment - Sentiment of the review; 1 for positive reviews and 0 for negative reviews\n",
    "\n",
    "review - Text of the review"
   ]
  },
  {
   "cell_type": "code",
   "execution_count": 1,
   "id": "e5c42369",
   "metadata": {
    "papermill": {
     "duration": 0.05237,
     "end_time": "2021-11-05T19:29:34.725090",
     "exception": false,
     "start_time": "2021-11-05T19:29:34.672720",
     "status": "completed"
    },
    "tags": []
   },
   "outputs": [],
   "source": [
    "import numpy as np\n",
    "import pandas as pd\n",
    "import gensim\n",
    "import warnings\n",
    "warnings.filterwarnings('ignore')"
   ]
  },
  {
   "cell_type": "code",
   "execution_count": 2,
   "id": "04089883",
   "metadata": {
    "papermill": {
     "duration": 1.293824,
     "end_time": "2021-11-05T19:29:36.048037",
     "exception": false,
     "start_time": "2021-11-05T19:29:34.754213",
     "status": "completed"
    },
    "tags": []
   },
   "outputs": [
    {
     "name": "stdout",
     "output_type": "stream",
     "text": [
      "Number of examples in Dataset:  (25000, 3)\n"
     ]
    },
    {
     "data": {
      "text/html": [
       "<div>\n",
       "<style scoped>\n",
       "    .dataframe tbody tr th:only-of-type {\n",
       "        vertical-align: middle;\n",
       "    }\n",
       "\n",
       "    .dataframe tbody tr th {\n",
       "        vertical-align: top;\n",
       "    }\n",
       "\n",
       "    .dataframe thead th {\n",
       "        text-align: right;\n",
       "    }\n",
       "</style>\n",
       "<table border=\"1\" class=\"dataframe\">\n",
       "  <thead>\n",
       "    <tr style=\"text-align: right;\">\n",
       "      <th></th>\n",
       "      <th>id</th>\n",
       "      <th>sentiment</th>\n",
       "      <th>review</th>\n",
       "    </tr>\n",
       "  </thead>\n",
       "  <tbody>\n",
       "    <tr>\n",
       "      <th>0</th>\n",
       "      <td>\"5814_8\"</td>\n",
       "      <td>1</td>\n",
       "      <td>\"With all this stuff going down at the moment ...</td>\n",
       "    </tr>\n",
       "    <tr>\n",
       "      <th>1</th>\n",
       "      <td>\"2381_9\"</td>\n",
       "      <td>1</td>\n",
       "      <td>\"\\\"The Classic War of the Worlds\\\" by Timothy ...</td>\n",
       "    </tr>\n",
       "    <tr>\n",
       "      <th>2</th>\n",
       "      <td>\"7759_3\"</td>\n",
       "      <td>0</td>\n",
       "      <td>\"The film starts with a manager (Nicholas Bell...</td>\n",
       "    </tr>\n",
       "    <tr>\n",
       "      <th>3</th>\n",
       "      <td>\"3630_4\"</td>\n",
       "      <td>0</td>\n",
       "      <td>\"It must be assumed that those who praised thi...</td>\n",
       "    </tr>\n",
       "    <tr>\n",
       "      <th>4</th>\n",
       "      <td>\"9495_8\"</td>\n",
       "      <td>1</td>\n",
       "      <td>\"Superbly trashy and wondrously unpretentious ...</td>\n",
       "    </tr>\n",
       "  </tbody>\n",
       "</table>\n",
       "</div>"
      ],
      "text/plain": [
       "         id  sentiment                                             review\n",
       "0  \"5814_8\"          1  \"With all this stuff going down at the moment ...\n",
       "1  \"2381_9\"          1  \"\\\"The Classic War of the Worlds\\\" by Timothy ...\n",
       "2  \"7759_3\"          0  \"The film starts with a manager (Nicholas Bell...\n",
       "3  \"3630_4\"          0  \"It must be assumed that those who praised thi...\n",
       "4  \"9495_8\"          1  \"Superbly trashy and wondrously unpretentious ..."
      ]
     },
     "execution_count": 2,
     "metadata": {},
     "output_type": "execute_result"
    }
   ],
   "source": [
    "df = pd.read_csv('labeledTrainData.tsv', header=0, delimiter=\"\\t\", quoting=3)\n",
    "print('Number of examples in Dataset: ', df.shape)\n",
    "df.head()"
   ]
  },
  {
   "cell_type": "code",
   "execution_count": 3,
   "id": "6cf293f4",
   "metadata": {
    "papermill": {
     "duration": 0.058055,
     "end_time": "2021-11-05T19:29:36.134831",
     "exception": false,
     "start_time": "2021-11-05T19:29:36.076776",
     "status": "completed"
    },
    "tags": []
   },
   "outputs": [
    {
     "name": "stdout",
     "output_type": "stream",
     "text": [
      "<class 'pandas.core.frame.DataFrame'>\n",
      "RangeIndex: 25000 entries, 0 to 24999\n",
      "Data columns (total 3 columns):\n",
      " #   Column     Non-Null Count  Dtype \n",
      "---  ------     --------------  ----- \n",
      " 0   id         25000 non-null  object\n",
      " 1   sentiment  25000 non-null  int64 \n",
      " 2   review     25000 non-null  object\n",
      "dtypes: int64(1), object(2)\n",
      "memory usage: 586.1+ KB\n"
     ]
    }
   ],
   "source": [
    "#Details about the columns of the Dataframe\n",
    "df.info()"
   ]
  },
  {
   "cell_type": "code",
   "execution_count": 4,
   "id": "4c45789d",
   "metadata": {
    "papermill": {
     "duration": 0.046235,
     "end_time": "2021-11-05T19:29:36.208343",
     "exception": false,
     "start_time": "2021-11-05T19:29:36.162108",
     "status": "completed"
    },
    "tags": []
   },
   "outputs": [
    {
     "data": {
      "text/plain": [
       "id           0\n",
       "sentiment    0\n",
       "review       0\n",
       "dtype: int64"
      ]
     },
     "execution_count": 4,
     "metadata": {},
     "output_type": "execute_result"
    }
   ],
   "source": [
    "#Finding out total number of null values in either columns\n",
    "df.isnull().sum()"
   ]
  },
  {
   "cell_type": "code",
   "execution_count": 5,
   "id": "6872e678",
   "metadata": {
    "papermill": {
     "duration": 1.03342,
     "end_time": "2021-11-05T19:29:37.269417",
     "exception": false,
     "start_time": "2021-11-05T19:29:36.235997",
     "status": "completed"
    },
    "tags": []
   },
   "outputs": [
    {
     "data": {
      "text/plain": [
       "<Axes: xlabel='sentiment', ylabel='count'>"
      ]
     },
     "execution_count": 5,
     "metadata": {},
     "output_type": "execute_result"
    },
    {
     "data": {
      "image/png": "[encoded data removed]",
      "text/plain": [
       "<Figure size 640x480 with 1 Axes>"
      ]
     },
     "metadata": {},
     "output_type": "display_data"
    }
   ],
   "source": [
    "#Composition of Reviews\n",
    "import seaborn as sns\n",
    "sns.countplot(x=\"sentiment\",data=df)"
   ]
  },
  {
   "cell_type": "markdown",
   "id": "4fc4aa8a",
   "metadata": {
    "papermill": {
     "duration": 0.029848,
     "end_time": "2021-11-05T19:29:37.329715",
     "exception": false,
     "start_time": "2021-11-05T19:29:37.299867",
     "status": "completed"
    },
    "tags": []
   },
   "source": [
    "### The Dataset is balanced. The compositon of both positive and Negative reviews is same. In other words, total number of positive and negative reviews are equal in number"
   ]
  },
  {
   "cell_type": "markdown",
   "id": "dc286380",
   "metadata": {
    "papermill": {
     "duration": 0.02836,
     "end_time": "2021-11-05T19:29:37.387570",
     "exception": false,
     "start_time": "2021-11-05T19:29:37.359210",
     "status": "completed"
    },
    "tags": []
   },
   "source": [
    "# <center> Data Cleaning </center>"
   ]
  },
  {
   "cell_type": "code",
   "execution_count": 9,
   "id": "64061675",
   "metadata": {
    "papermill": {
     "duration": 0.882973,
     "end_time": "2021-11-05T19:29:52.521919",
     "exception": false,
     "start_time": "2021-11-05T19:29:51.638946",
     "status": "completed"
    },
    "tags": []
   },
   "outputs": [
    {
     "name": "stderr",
     "output_type": "stream",
     "text": [
      "[nltk_data] Downloading package stopwords to\n",
      "[nltk_data]     C:\\Users\\mirza\\AppData\\Roaming\\nltk_data...\n",
      "[nltk_data]   Package stopwords is already up-to-date!\n"
     ]
    }
   ],
   "source": [
    "import contractions\n",
    "#This package is used to replace the contractions in English language with their actual forms\n",
    "from tqdm import tqdm\n",
    "#tqdm is used to display the percentage of work done by a for loop.\n",
    "import nltk\n",
    "#Contains various language specific datasets and tools for analysis\n",
    "import re\n",
    "#used to work with regular expression and helps in finding the matches for a given regex.\n",
    "import time\n",
    "nltk.download('stopwords')\n",
    "from nltk.corpus import stopwords\n",
    "#donwloadin the stopwords of english language\n",
    "stopwords=stopwords.words('english')\n",
    "#Removing stopwords 'no','nor' and 'not'\n",
    "stopwords.remove('no')\n",
    "stopwords.remove('nor')\n",
    "stopwords.remove('not')"
   ]
  },
  {
   "cell_type": "code",
   "execution_count": 10,
   "id": "7d0d2d63",
   "metadata": {
    "papermill": {
     "duration": 29.299108,
     "end_time": "2021-11-05T19:30:21.855829",
     "exception": false,
     "start_time": "2021-11-05T19:29:52.556721",
     "status": "completed"
    },
    "tags": []
   },
   "outputs": [
    {
     "name": "stderr",
     "output_type": "stream",
     "text": [
      "100%|██████████████████████████████████████████████████████████████████████████| 25000/25000 [00:17<00:00, 1406.68it/s]\n"
     ]
    }
   ],
   "source": [
    "processed_reviews=[]\n",
    "for i in tqdm(df['review']):\n",
    "    #Regular expression that removes all the html tags pressent in the reviews\n",
    "    i=re.sub('(<[\\w\\s]*/?>)',\"\",i)\n",
    "    #Expanding all the contractions present in the review to is respective actual form\n",
    "    i=contractions.fix(i)\n",
    "    #Removing all the special charactesrs from the review text\n",
    "    i=re.sub('[^a-zA-Z0-9\\s]+',\"\",i)\n",
    "    #Removing all the digits present in the review text\n",
    "    \n",
    "    i=re.sub('\\d+',\"\",i)\n",
    "    #Making all the review text to be of lower case as well as removing the stopwords and words of length less than 3\n",
    "    #processed_reviews.append(\" \".join([lemmatizer.lemmatize(j.lower()) for j in i.split() if j not in stopwords and len(j)>=3]))\n",
    "    processed_reviews.append(\" \".join([j.lower() for j in i.split() if j not in stopwords and len(j)>=3]))"
   ]
  },
  {
   "cell_type": "code",
   "execution_count": 11,
   "id": "143856a8",
   "metadata": {
    "papermill": {
     "duration": 0.195883,
     "end_time": "2021-11-05T19:30:22.157928",
     "exception": false,
     "start_time": "2021-11-05T19:30:21.962045",
     "status": "completed"
    },
    "tags": []
   },
   "outputs": [
    {
     "data": {
      "text/html": [
       "<div>\n",
       "<style scoped>\n",
       "    .dataframe tbody tr th:only-of-type {\n",
       "        vertical-align: middle;\n",
       "    }\n",
       "\n",
       "    .dataframe tbody tr th {\n",
       "        vertical-align: top;\n",
       "    }\n",
       "\n",
       "    .dataframe thead th {\n",
       "        text-align: right;\n",
       "    }\n",
       "</style>\n",
       "<table border=\"1\" class=\"dataframe\">\n",
       "  <thead>\n",
       "    <tr style=\"text-align: right;\">\n",
       "      <th></th>\n",
       "      <th>id</th>\n",
       "      <th>sentiment</th>\n",
       "      <th>review</th>\n",
       "      <th>clean_review</th>\n",
       "    </tr>\n",
       "  </thead>\n",
       "  <tbody>\n",
       "    <tr>\n",
       "      <th>0</th>\n",
       "      <td>\"5814_8\"</td>\n",
       "      <td>1</td>\n",
       "      <td>\"With all this stuff going down at the moment ...</td>\n",
       "      <td>with stuff going moment started listening musi...</td>\n",
       "    </tr>\n",
       "    <tr>\n",
       "      <th>1</th>\n",
       "      <td>\"2381_9\"</td>\n",
       "      <td>1</td>\n",
       "      <td>\"\\\"The Classic War of the Worlds\\\" by Timothy ...</td>\n",
       "      <td>the classic war worlds timothy hines entertain...</td>\n",
       "    </tr>\n",
       "    <tr>\n",
       "      <th>2</th>\n",
       "      <td>\"7759_3\"</td>\n",
       "      <td>0</td>\n",
       "      <td>\"The film starts with a manager (Nicholas Bell...</td>\n",
       "      <td>the film starts manager nicholas bell giving w...</td>\n",
       "    </tr>\n",
       "    <tr>\n",
       "      <th>3</th>\n",
       "      <td>\"3630_4\"</td>\n",
       "      <td>0</td>\n",
       "      <td>\"It must be assumed that those who praised thi...</td>\n",
       "      <td>must assumed praised film greatest filmed oper...</td>\n",
       "    </tr>\n",
       "    <tr>\n",
       "      <th>4</th>\n",
       "      <td>\"9495_8\"</td>\n",
       "      <td>1</td>\n",
       "      <td>\"Superbly trashy and wondrously unpretentious ...</td>\n",
       "      <td>superbly trashy wondrously unpretentious explo...</td>\n",
       "    </tr>\n",
       "  </tbody>\n",
       "</table>\n",
       "</div>"
      ],
      "text/plain": [
       "         id  sentiment                                             review  \\\n",
       "0  \"5814_8\"          1  \"With all this stuff going down at the moment ...   \n",
       "1  \"2381_9\"          1  \"\\\"The Classic War of the Worlds\\\" by Timothy ...   \n",
       "2  \"7759_3\"          0  \"The film starts with a manager (Nicholas Bell...   \n",
       "3  \"3630_4\"          0  \"It must be assumed that those who praised thi...   \n",
       "4  \"9495_8\"          1  \"Superbly trashy and wondrously unpretentious ...   \n",
       "\n",
       "                                        clean_review  \n",
       "0  with stuff going moment started listening musi...  \n",
       "1  the classic war worlds timothy hines entertain...  \n",
       "2  the film starts manager nicholas bell giving w...  \n",
       "3  must assumed praised film greatest filmed oper...  \n",
       "4  superbly trashy wondrously unpretentious explo...  "
      ]
     },
     "execution_count": 11,
     "metadata": {},
     "output_type": "execute_result"
    }
   ],
   "source": [
    "#Creating a new datafram using the Processed Reviews\n",
    "df['clean_review'] = processed_reviews\n",
    "df.head()"
   ]
  },
  {
   "cell_type": "markdown",
   "id": "4ed2d4c6",
   "metadata": {
    "papermill": {
     "duration": 0.171331,
     "end_time": "2021-11-05T19:30:22.848083",
     "exception": false,
     "start_time": "2021-11-05T19:30:22.676752",
     "status": "completed"
    },
    "tags": []
   },
   "source": [
    "# <center> Data Preparaton</center>"
   ]
  },
  {
   "cell_type": "code",
   "execution_count": 15,
   "id": "de2d4790",
   "metadata": {
    "papermill": {
     "duration": 0.152794,
     "end_time": "2021-11-05T19:30:23.107954",
     "exception": false,
     "start_time": "2021-11-05T19:30:22.955160",
     "status": "completed"
    },
    "tags": []
   },
   "outputs": [],
   "source": [
    "#Splitting the data into dependent and independent variables i.e, features and the target columns\n",
    "X = df['clean_review']\n",
    "Y = df['sentiment']\n",
    "\n",
    "#Splitting the data such that 33% will be used for testing and the remaining 67% will be used for training. \n",
    "from sklearn.model_selection import train_test_split\n",
    "\n",
    "x_train, x_test, y_train, y_test = train_test_split(X, Y, stratify=Y, test_size=0.2)\n",
    "#when stratify is provided the splitting of data into train and test datasets agree with the composition of actual possitive and negative reviews present in the dataset"
   ]
  },
  {
   "cell_type": "code",
   "execution_count": 16,
   "id": "e65b9834",
   "metadata": {
    "papermill": {
     "duration": 0.255884,
     "end_time": "2021-11-05T19:30:23.470107",
     "exception": false,
     "start_time": "2021-11-05T19:30:23.214223",
     "status": "completed"
    },
    "tags": []
   },
   "outputs": [],
   "source": [
    "from gensim.models import Word2Vec"
   ]
  },
  {
   "cell_type": "code",
   "execution_count": 17,
   "id": "23afea61",
   "metadata": {
    "papermill": {
     "duration": 0.77298,
     "end_time": "2021-11-05T19:30:24.350606",
     "exception": false,
     "start_time": "2021-11-05T19:30:23.577626",
     "status": "completed"
    },
    "tags": []
   },
   "outputs": [
    {
     "name": "stderr",
     "output_type": "stream",
     "text": [
      "100%|█████████████████████████████████████████████████████████████████████████| 20000/20000 [00:00<00:00, 55797.24it/s]\n"
     ]
    }
   ],
   "source": [
    "#Preparing data for training the Word2Vec model. It requies each review to be as a list of words.\n",
    "words_in_sentences=[]\n",
    "for i in tqdm(x_train):\n",
    "    words_in_sentences.append(i.split())"
   ]
  },
  {
   "cell_type": "code",
   "execution_count": 25,
   "id": "da88a347",
   "metadata": {
    "papermill": {
     "duration": 2.290155,
     "end_time": "2021-11-05T19:30:26.751985",
     "exception": false,
     "start_time": "2021-11-05T19:30:24.461830",
     "status": "completed"
    },
    "tags": []
   },
   "outputs": [
    {
     "name": "stdout",
     "output_type": "stream",
     "text": [
      "Model Training Started...\n",
      "Model Training Completed...\n"
     ]
    }
   ],
   "source": [
    "print(\"Model Training Started...\")\n",
    "model = Word2Vec(sentences=words_in_sentences, vector_size=100,workers=-1)\n",
    "print(\"Model Training Completed...\")"
   ]
  },
  {
   "cell_type": "code",
   "execution_count": 26,
   "id": "200feef7",
   "metadata": {
    "papermill": {
     "duration": 0.13706,
     "end_time": "2021-11-05T19:30:26.998926",
     "exception": false,
     "start_time": "2021-11-05T19:30:26.861866",
     "status": "completed"
    },
    "tags": []
   },
   "outputs": [
    {
     "data": {
      "text/plain": [
       "[('vignette', 0.4400063455104828),\n",
       " ('christies', 0.38269007205963135),\n",
       " ('histrionics', 0.3611806035041809),\n",
       " ('sporadically', 0.35809633135795593),\n",
       " ('holt', 0.3519062399864197),\n",
       " ('withdrawal', 0.3507702052593231),\n",
       " ('will', 0.34380242228507996),\n",
       " ('approximately', 0.34282371401786804),\n",
       " ('word', 0.3376915454864502),\n",
       " ('talespin', 0.33468711376190186)]"
      ]
     },
     "execution_count": 26,
     "metadata": {},
     "output_type": "execute_result"
    }
   ],
   "source": [
    "#Word2Vec model returns the similar words for a given word\n",
    "model.wv.most_similar('doctor', topn=10)"
   ]
  },
  {
   "cell_type": "code",
   "execution_count": 27,
   "id": "a9f33569",
   "metadata": {
    "papermill": {
     "duration": 0.119323,
     "end_time": "2021-11-05T19:30:27.573595",
     "exception": false,
     "start_time": "2021-11-05T19:30:27.454272",
     "status": "completed"
    },
    "tags": []
   },
   "outputs": [
    {
     "data": {
      "text/plain": [
       "array([ 9.7215911e-03,  6.5830853e-03, -9.2272451e-03, -7.1331621e-03,\n",
       "       -8.4039867e-03,  4.2321589e-03,  9.0868212e-03, -5.2528097e-03,\n",
       "       -8.8913450e-03, -1.3579619e-03, -2.7806782e-03,  1.2861872e-03,\n",
       "        5.3405701e-03,  5.5971387e-04,  4.7917007e-03,  9.2133293e-03,\n",
       "       -7.8772129e-03,  5.8227312e-03,  6.0264108e-04, -8.1194667e-03,\n",
       "       -5.3923512e-03,  4.2087208e-03,  7.9149446e-03, -6.4188419e-03,\n",
       "       -4.3771062e-03, -2.6854933e-03, -3.4994937e-03, -9.5467577e-03,\n",
       "        1.5903843e-03, -7.6046335e-03, -6.2450506e-03,  4.3869521e-03,\n",
       "       -5.6670378e-03, -3.0217087e-03,  6.2390568e-04,  9.3117915e-03,\n",
       "       -5.4686521e-03,  8.5464236e-04, -6.9872369e-03,  6.5331827e-03,\n",
       "        9.8770484e-03,  9.8527502e-03, -4.1399514e-03,  9.5746983e-03,\n",
       "        7.1208002e-03, -2.2332907e-04, -3.6293196e-03,  1.5573085e-03,\n",
       "        3.7529338e-03, -7.2583244e-03,  3.4208298e-03,  2.9779542e-03,\n",
       "        8.3073380e-04, -2.8611945e-03,  2.4397529e-03,  5.5999993e-03,\n",
       "       -3.4542549e-03,  1.3971746e-03,  5.5833007e-03,  1.0658359e-03,\n",
       "        7.8097736e-03,  5.5918312e-03, -3.6395562e-03,  6.7391288e-03,\n",
       "        2.4411296e-03,  2.6105987e-03, -9.7431539e-04, -8.0388095e-03,\n",
       "       -6.2303841e-03, -1.2060523e-04, -3.1932234e-03,  7.7042459e-03,\n",
       "        3.0304850e-03,  4.7427807e-03,  2.6435851e-05,  1.8662155e-03,\n",
       "       -2.9669760e-04, -8.7473765e-03,  1.8516970e-03,  9.4808247e-03,\n",
       "        5.1842723e-03, -9.4620027e-03,  8.3945962e-03, -7.2153821e-03,\n",
       "        1.6409552e-03, -8.6344732e-03,  9.0040378e-03,  2.4089301e-03,\n",
       "       -1.6464949e-04, -3.5004853e-04, -3.0289816e-03,  8.6952234e-03,\n",
       "        5.7995580e-03,  2.4743665e-03, -1.0879874e-03,  1.2726652e-03,\n",
       "        2.4246906e-03, -9.5463349e-03, -8.6760465e-03,  9.0752803e-03],\n",
       "      dtype=float32)"
      ]
     },
     "execution_count": 27,
     "metadata": {},
     "output_type": "execute_result"
    }
   ],
   "source": [
    "#Word emebedding for a given word.\n",
    "model.wv.get_vector('interesting')"
   ]
  },
  {
   "cell_type": "code",
   "execution_count": 28,
   "id": "7976c6d9",
   "metadata": {
    "papermill": {
     "duration": 0.118678,
     "end_time": "2021-11-05T19:30:27.804605",
     "exception": false,
     "start_time": "2021-11-05T19:30:27.685927",
     "status": "completed"
    },
    "tags": []
   },
   "outputs": [
    {
     "data": {
      "text/plain": [
       "0.058463883"
      ]
     },
     "execution_count": 28,
     "metadata": {},
     "output_type": "execute_result"
    }
   ],
   "source": [
    "model.wv.n_similarity(['king','male'],['queen','female'])"
   ]
  },
  {
   "cell_type": "code",
   "execution_count": 29,
   "id": "460af1c2",
   "metadata": {
    "papermill": {
     "duration": 0.116986,
     "end_time": "2021-11-05T19:30:28.033574",
     "exception": false,
     "start_time": "2021-11-05T19:30:27.916588",
     "status": "completed"
    },
    "tags": []
   },
   "outputs": [
    {
     "data": {
      "text/plain": [
       "1.0243505034595728"
      ]
     },
     "execution_count": 29,
     "metadata": {},
     "output_type": "execute_result"
    }
   ],
   "source": [
    "model.wv.distance('king','queen')"
   ]
  },
  {
   "cell_type": "code",
   "execution_count": 30,
   "id": "04137ccf",
   "metadata": {
    "papermill": {
     "duration": 0.124002,
     "end_time": "2021-11-05T19:30:28.270544",
     "exception": false,
     "start_time": "2021-11-05T19:30:28.146542",
     "status": "completed"
    },
    "tags": []
   },
   "outputs": [
    {
     "data": {
      "text/plain": [
       "'king'"
      ]
     },
     "execution_count": 30,
     "metadata": {},
     "output_type": "execute_result"
    }
   ],
   "source": [
    "model.wv.doesnt_match([\"king\", \"george\", \"stephen\", \"truck\"])"
   ]
  },
  {
   "cell_type": "code",
   "execution_count": 31,
   "id": "d4b2946d",
   "metadata": {
    "papermill": {
     "duration": 0.119606,
     "end_time": "2021-11-05T19:30:28.506999",
     "exception": false,
     "start_time": "2021-11-05T19:30:28.387393",
     "status": "completed"
    },
    "tags": []
   },
   "outputs": [
    {
     "name": "stdout",
     "output_type": "stream",
     "text": [
      "27075\n"
     ]
    }
   ],
   "source": [
    "vocab=list(model.wv.key_to_index.keys())\n",
    "print(len(vocab))"
   ]
  },
  {
   "cell_type": "markdown",
   "id": "a19ffb00",
   "metadata": {
    "papermill": {
     "duration": 0.112753,
     "end_time": "2021-11-05T19:30:28.731273",
     "exception": false,
     "start_time": "2021-11-05T19:30:28.618520",
     "status": "completed"
    },
    "tags": []
   },
   "source": [
    "## Average Word2Vec approach to create embedding for a sentence"
   ]
  },
  {
   "cell_type": "code",
   "execution_count": 34,
   "id": "11a045c3",
   "metadata": {
    "papermill": {
     "duration": 0.11949,
     "end_time": "2021-11-05T19:30:28.962534",
     "exception": false,
     "start_time": "2021-11-05T19:30:28.843044",
     "status": "completed"
    },
    "tags": []
   },
   "outputs": [],
   "source": [
    "def avg_w2vec(sentences):\n",
    "    \"\"\"\n",
    "    This Function is using Average Word2Vec approach for creating a numerical vector for a given review from the word embeddings of each words of the review.\n",
    "    \"\"\"\n",
    "    transformed=[]\n",
    "    for sentence in tqdm(sentences):\n",
    "        count=0\n",
    "        vector=np.zeros(100)\n",
    "        for word in sentence.split():\n",
    "            if word in vocab:\n",
    "                vector+=model.wv.get_vector(word)\n",
    "                count+=1\n",
    "        if count!=0:\n",
    "            vector/=count\n",
    "            transformed.append(vector)\n",
    "    return np.array(transformed)"
   ]
  },
  {
   "cell_type": "code",
   "execution_count": 35,
   "id": "e4f3c853",
   "metadata": {
    "papermill": {
     "duration": 604.697294,
     "end_time": "2021-11-05T19:40:33.770797",
     "exception": false,
     "start_time": "2021-11-05T19:30:29.073503",
     "status": "completed"
    },
    "tags": []
   },
   "outputs": [
    {
     "name": "stderr",
     "output_type": "stream",
     "text": [
      "100%|████████████████████████████████████████████████████████████████████████████| 20000/20000 [05:25<00:00, 61.41it/s]\n",
      "100%|██████████████████████████████████████████████████████████████████████████████| 5000/5000 [01:35<00:00, 52.53it/s]\n"
     ]
    }
   ],
   "source": [
    "x_train_transformed=avg_w2vec(x_train)\n",
    "x_test_transformed=avg_w2vec(x_test)"
   ]
  },
  {
   "cell_type": "markdown",
   "id": "c683ba89",
   "metadata": {
    "papermill": {
     "duration": 1.334244,
     "end_time": "2021-11-05T19:40:36.422035",
     "exception": false,
     "start_time": "2021-11-05T19:40:35.087791",
     "status": "completed"
    },
    "tags": []
   },
   "source": [
    "# <center> Model Training and Hyper-Parameter Tuning using GridSearchCV</center>"
   ]
  },
  {
   "cell_type": "code",
   "execution_count": 36,
   "id": "d154860e",
   "metadata": {
    "papermill": {
     "duration": 1723.307349,
     "end_time": "2021-11-05T20:09:21.051153",
     "exception": false,
     "start_time": "2021-11-05T19:40:37.743804",
     "status": "completed"
    },
    "tags": []
   },
   "outputs": [
    {
     "name": "stdout",
     "output_type": "stream",
     "text": [
      "Fitting 5 folds for each of 6 candidates, totalling 30 fits\n"
     ]
    },
    {
     "data": {
      "text/html": [
       "<style>#sk-container-id-1 {\n",
       "  /* Definition of color scheme common for light and dark mode */\n",
       "  --sklearn-color-text: black;\n",
       "  --sklearn-color-line: gray;\n",
       "  /* Definition of color scheme for unfitted estimators */\n",
       "  --sklearn-color-unfitted-level-0: #fff5e6;\n",
       "  --sklearn-color-unfitted-level-1: #f6e4d2;\n",
       "  --sklearn-color-unfitted-level-2: #ffe0b3;\n",
       "  --sklearn-color-unfitted-level-3: chocolate;\n",
       "  /* Definition of color scheme for fitted estimators */\n",
       "  --sklearn-color-fitted-level-0: #f0f8ff;\n",
       "  --sklearn-color-fitted-level-1: #d4ebff;\n",
       "  --sklearn-color-fitted-level-2: #b3dbfd;\n",
       "  --sklearn-color-fitted-level-3: cornflowerblue;\n",
       "\n",
       "  /* Specific color for light theme */\n",
       "  --sklearn-color-text-on-default-background: var(--sg-text-color, var(--theme-code-foreground, var(--jp-content-font-color1, black)));\n",
       "  --sklearn-color-background: var(--sg-background-color, var(--theme-background, var(--jp-layout-color0, white)));\n",
       "  --sklearn-color-border-box: var(--sg-text-color, var(--theme-code-foreground, var(--jp-content-font-color1, black)));\n",
       "  --sklearn-color-icon: #696969;\n",
       "\n",
       "  @media (prefers-color-scheme: dark) {\n",
       "    /* Redefinition of color scheme for dark theme */\n",
       "    --sklearn-color-text-on-default-background: var(--sg-text-color, var(--theme-code-foreground, var(--jp-content-font-color1, white)));\n",
       "    --sklearn-color-background: var(--sg-background-color, var(--theme-background, var(--jp-layout-color0, #111)));\n",
       "    --sklearn-color-border-box: var(--sg-text-color, var(--theme-code-foreground, var(--jp-content-font-color1, white)));\n",
       "    --sklearn-color-icon: #878787;\n",
       "  }\n",
       "}\n",
       "\n",
       "#sk-container-id-1 {\n",
       "  color: var(--sklearn-color-text);\n",
       "}\n",
       "\n",
       "#sk-container-id-1 pre {\n",
       "  padding: 0;\n",
       "}\n",
       "\n",
       "#sk-container-id-1 input.sk-hidden--visually {\n",
       "  border: 0;\n",
       "  clip: rect(1px 1px 1px 1px);\n",
       "  clip: rect(1px, 1px, 1px, 1px);\n",
       "  height: 1px;\n",
       "  margin: -1px;\n",
       "  overflow: hidden;\n",
       "  padding: 0;\n",
       "  position: absolute;\n",
       "  width: 1px;\n",
       "}\n",
       "\n",
       "#sk-container-id-1 div.sk-dashed-wrapped {\n",
       "  border: 1px dashed var(--sklearn-color-line);\n",
       "  margin: 0 0.4em 0.5em 0.4em;\n",
       "  box-sizing: border-box;\n",
       "  padding-bottom: 0.4em;\n",
       "  background-color: var(--sklearn-color-background);\n",
       "}\n",
       "\n",
       "#sk-container-id-1 div.sk-container {\n",
       "  /* jupyter's `normalize.less` sets `[hidden] { display: none; }`\n",
       "     but bootstrap.min.css set `[hidden] { display: none !important; }`\n",
       "     so we also need the `!important` here to be able to override the\n",
       "     default hidden behavior on the sphinx rendered scikit-learn.org.\n",
       "     See: https://github.com/scikit-learn/scikit-learn/issues/21755 */\n",
       "  display: inline-block !important;\n",
       "  position: relative;\n",
       "}\n",
       "\n",
       "#sk-container-id-1 div.sk-text-repr-fallback {\n",
       "  display: none;\n",
       "}\n",
       "\n",
       "div.sk-parallel-item,\n",
       "div.sk-serial,\n",
       "div.sk-item {\n",
       "  /* draw centered vertical line to link estimators */\n",
       "  background-image: linear-gradient(var(--sklearn-color-text-on-default-background), var(--sklearn-color-text-on-default-background));\n",
       "  background-size: 2px 100%;\n",
       "  background-repeat: no-repeat;\n",
       "  background-position: center center;\n",
       "}\n",
       "\n",
       "/* Parallel-specific style estimator block */\n",
       "\n",
       "#sk-container-id-1 div.sk-parallel-item::after {\n",
       "  content: \"\";\n",
       "  width: 100%;\n",
       "  border-bottom: 2px solid var(--sklearn-color-text-on-default-background);\n",
       "  flex-grow: 1;\n",
       "}\n",
       "\n",
       "#sk-container-id-1 div.sk-parallel {\n",
       "  display: flex;\n",
       "  align-items: stretch;\n",
       "  justify-content: center;\n",
       "  background-color: var(--sklearn-color-background);\n",
       "  position: relative;\n",
       "}\n",
       "\n",
       "#sk-container-id-1 div.sk-parallel-item {\n",
       "  display: flex;\n",
       "  flex-direction: column;\n",
       "}\n",
       "\n",
       "#sk-container-id-1 div.sk-parallel-item:first-child::after {\n",
       "  align-self: flex-end;\n",
       "  width: 50%;\n",
       "}\n",
       "\n",
       "#sk-container-id-1 div.sk-parallel-item:last-child::after {\n",
       "  align-self: flex-start;\n",
       "  width: 50%;\n",
       "}\n",
       "\n",
       "#sk-container-id-1 div.sk-parallel-item:only-child::after {\n",
       "  width: 0;\n",
       "}\n",
       "\n",
       "/* Serial-specific style estimator block */\n",
       "\n",
       "#sk-container-id-1 div.sk-serial {\n",
       "  display: flex;\n",
       "  flex-direction: column;\n",
       "  align-items: center;\n",
       "  background-color: var(--sklearn-color-background);\n",
       "  padding-right: 1em;\n",
       "  padding-left: 1em;\n",
       "}\n",
       "\n",
       "\n",
       "/* Toggleable style: style used for estimator/Pipeline/ColumnTransformer box that is\n",
       "clickable and can be expanded/collapsed.\n",
       "- Pipeline and ColumnTransformer use this feature and define the default style\n",
       "- Estimators will overwrite some part of the style using the `sk-estimator` class\n",
       "*/\n",
       "\n",
       "/* Pipeline and ColumnTransformer style (default) */\n",
       "\n",
       "#sk-container-id-1 div.sk-toggleable {\n",
       "  /* Default theme specific background. It is overwritten whether we have a\n",
       "  specific estimator or a Pipeline/ColumnTransformer */\n",
       "  background-color: var(--sklearn-color-background);\n",
       "}\n",
       "\n",
       "/* Toggleable label */\n",
       "#sk-container-id-1 label.sk-toggleable__label {\n",
       "  cursor: pointer;\n",
       "  display: block;\n",
       "  width: 100%;\n",
       "  margin-bottom: 0;\n",
       "  padding: 0.5em;\n",
       "  box-sizing: border-box;\n",
       "  text-align: center;\n",
       "}\n",
       "\n",
       "#sk-container-id-1 label.sk-toggleable__label-arrow:before {\n",
       "  /* Arrow on the left of the label */\n",
       "  content: \"▸\";\n",
       "  float: left;\n",
       "  margin-right: 0.25em;\n",
       "  color: var(--sklearn-color-icon);\n",
       "}\n",
       "\n",
       "#sk-container-id-1 label.sk-toggleable__label-arrow:hover:before {\n",
       "  color: var(--sklearn-color-text);\n",
       "}\n",
       "\n",
       "/* Toggleable content - dropdown */\n",
       "\n",
       "#sk-container-id-1 div.sk-toggleable__content {\n",
       "  max-height: 0;\n",
       "  max-width: 0;\n",
       "  overflow: hidden;\n",
       "  text-align: left;\n",
       "  /* unfitted */\n",
       "  background-color: var(--sklearn-color-unfitted-level-0);\n",
       "}\n",
       "\n",
       "#sk-container-id-1 div.sk-toggleable__content.fitted {\n",
       "  /* fitted */\n",
       "  background-color: var(--sklearn-color-fitted-level-0);\n",
       "}\n",
       "\n",
       "#sk-container-id-1 div.sk-toggleable__content pre {\n",
       "  margin: 0.2em;\n",
       "  border-radius: 0.25em;\n",
       "  color: var(--sklearn-color-text);\n",
       "  /* unfitted */\n",
       "  background-color: var(--sklearn-color-unfitted-level-0);\n",
       "}\n",
       "\n",
       "#sk-container-id-1 div.sk-toggleable__content.fitted pre {\n",
       "  /* unfitted */\n",
       "  background-color: var(--sklearn-color-fitted-level-0);\n",
       "}\n",
       "\n",
       "#sk-container-id-1 input.sk-toggleable__control:checked~div.sk-toggleable__content {\n",
       "  /* Expand drop-down */\n",
       "  max-height: 200px;\n",
       "  max-width: 100%;\n",
       "  overflow: auto;\n",
       "}\n",
       "\n",
       "#sk-container-id-1 input.sk-toggleable__control:checked~label.sk-toggleable__label-arrow:before {\n",
       "  content: \"▾\";\n",
       "}\n",
       "\n",
       "/* Pipeline/ColumnTransformer-specific style */\n",
       "\n",
       "#sk-container-id-1 div.sk-label input.sk-toggleable__control:checked~label.sk-toggleable__label {\n",
       "  color: var(--sklearn-color-text);\n",
       "  background-color: var(--sklearn-color-unfitted-level-2);\n",
       "}\n",
       "\n",
       "#sk-container-id-1 div.sk-label.fitted input.sk-toggleable__control:checked~label.sk-toggleable__label {\n",
       "  background-color: var(--sklearn-color-fitted-level-2);\n",
       "}\n",
       "\n",
       "/* Estimator-specific style */\n",
       "\n",
       "/* Colorize estimator box */\n",
       "#sk-container-id-1 div.sk-estimator input.sk-toggleable__control:checked~label.sk-toggleable__label {\n",
       "  /* unfitted */\n",
       "  background-color: var(--sklearn-color-unfitted-level-2);\n",
       "}\n",
       "\n",
       "#sk-container-id-1 div.sk-estimator.fitted input.sk-toggleable__control:checked~label.sk-toggleable__label {\n",
       "  /* fitted */\n",
       "  background-color: var(--sklearn-color-fitted-level-2);\n",
       "}\n",
       "\n",
       "#sk-container-id-1 div.sk-label label.sk-toggleable__label,\n",
       "#sk-container-id-1 div.sk-label label {\n",
       "  /* The background is the default theme color */\n",
       "  color: var(--sklearn-color-text-on-default-background);\n",
       "}\n",
       "\n",
       "/* On hover, darken the color of the background */\n",
       "#sk-container-id-1 div.sk-label:hover label.sk-toggleable__label {\n",
       "  color: var(--sklearn-color-text);\n",
       "  background-color: var(--sklearn-color-unfitted-level-2);\n",
       "}\n",
       "\n",
       "/* Label box, darken color on hover, fitted */\n",
       "#sk-container-id-1 div.sk-label.fitted:hover label.sk-toggleable__label.fitted {\n",
       "  color: var(--sklearn-color-text);\n",
       "  background-color: var(--sklearn-color-fitted-level-2);\n",
       "}\n",
       "\n",
       "/* Estimator label */\n",
       "\n",
       "#sk-container-id-1 div.sk-label label {\n",
       "  font-family: monospace;\n",
       "  font-weight: bold;\n",
       "  display: inline-block;\n",
       "  line-height: 1.2em;\n",
       "}\n",
       "\n",
       "#sk-container-id-1 div.sk-label-container {\n",
       "  text-align: center;\n",
       "}\n",
       "\n",
       "/* Estimator-specific */\n",
       "#sk-container-id-1 div.sk-estimator {\n",
       "  font-family: monospace;\n",
       "  border: 1px dotted var(--sklearn-color-border-box);\n",
       "  border-radius: 0.25em;\n",
       "  box-sizing: border-box;\n",
       "  margin-bottom: 0.5em;\n",
       "  /* unfitted */\n",
       "  background-color: var(--sklearn-color-unfitted-level-0);\n",
       "}\n",
       "\n",
       "#sk-container-id-1 div.sk-estimator.fitted {\n",
       "  /* fitted */\n",
       "  background-color: var(--sklearn-color-fitted-level-0);\n",
       "}\n",
       "\n",
       "/* on hover */\n",
       "#sk-container-id-1 div.sk-estimator:hover {\n",
       "  /* unfitted */\n",
       "  background-color: var(--sklearn-color-unfitted-level-2);\n",
       "}\n",
       "\n",
       "#sk-container-id-1 div.sk-estimator.fitted:hover {\n",
       "  /* fitted */\n",
       "  background-color: var(--sklearn-color-fitted-level-2);\n",
       "}\n",
       "\n",
       "/* Specification for estimator info (e.g. \"i\" and \"?\") */\n",
       "\n",
       "/* Common style for \"i\" and \"?\" */\n",
       "\n",
       ".sk-estimator-doc-link,\n",
       "a:link.sk-estimator-doc-link,\n",
       "a:visited.sk-estimator-doc-link {\n",
       "  float: right;\n",
       "  font-size: smaller;\n",
       "  line-height: 1em;\n",
       "  font-family: monospace;\n",
       "  background-color: var(--sklearn-color-background);\n",
       "  border-radius: 1em;\n",
       "  height: 1em;\n",
       "  width: 1em;\n",
       "  text-decoration: none !important;\n",
       "  margin-left: 1ex;\n",
       "  /* unfitted */\n",
       "  border: var(--sklearn-color-unfitted-level-1) 1pt solid;\n",
       "  color: var(--sklearn-color-unfitted-level-1);\n",
       "}\n",
       "\n",
       ".sk-estimator-doc-link.fitted,\n",
       "a:link.sk-estimator-doc-link.fitted,\n",
       "a:visited.sk-estimator-doc-link.fitted {\n",
       "  /* fitted */\n",
       "  border: var(--sklearn-color-fitted-level-1) 1pt solid;\n",
       "  color: var(--sklearn-color-fitted-level-1);\n",
       "}\n",
       "\n",
       "/* On hover */\n",
       "div.sk-estimator:hover .sk-estimator-doc-link:hover,\n",
       ".sk-estimator-doc-link:hover,\n",
       "div.sk-label-container:hover .sk-estimator-doc-link:hover,\n",
       ".sk-estimator-doc-link:hover {\n",
       "  /* unfitted */\n",
       "  background-color: var(--sklearn-color-unfitted-level-3);\n",
       "  color: var(--sklearn-color-background);\n",
       "  text-decoration: none;\n",
       "}\n",
       "\n",
       "div.sk-estimator.fitted:hover .sk-estimator-doc-link.fitted:hover,\n",
       ".sk-estimator-doc-link.fitted:hover,\n",
       "div.sk-label-container:hover .sk-estimator-doc-link.fitted:hover,\n",
       ".sk-estimator-doc-link.fitted:hover {\n",
       "  /* fitted */\n",
       "  background-color: var(--sklearn-color-fitted-level-3);\n",
       "  color: var(--sklearn-color-background);\n",
       "  text-decoration: none;\n",
       "}\n",
       "\n",
       "/* Span, style for the box shown on hovering the info icon */\n",
       ".sk-estimator-doc-link span {\n",
       "  display: none;\n",
       "  z-index: 9999;\n",
       "  position: relative;\n",
       "  font-weight: normal;\n",
       "  right: .2ex;\n",
       "  padding: .5ex;\n",
       "  margin: .5ex;\n",
       "  width: min-content;\n",
       "  min-width: 20ex;\n",
       "  max-width: 50ex;\n",
       "  color: var(--sklearn-color-text);\n",
       "  box-shadow: 2pt 2pt 4pt #999;\n",
       "  /* unfitted */\n",
       "  background: var(--sklearn-color-unfitted-level-0);\n",
       "  border: .5pt solid var(--sklearn-color-unfitted-level-3);\n",
       "}\n",
       "\n",
       ".sk-estimator-doc-link.fitted span {\n",
       "  /* fitted */\n",
       "  background: var(--sklearn-color-fitted-level-0);\n",
       "  border: var(--sklearn-color-fitted-level-3);\n",
       "}\n",
       "\n",
       ".sk-estimator-doc-link:hover span {\n",
       "  display: block;\n",
       "}\n",
       "\n",
       "/* \"?\"-specific style due to the `<a>` HTML tag */\n",
       "\n",
       "#sk-container-id-1 a.estimator_doc_link {\n",
       "  float: right;\n",
       "  font-size: 1rem;\n",
       "  line-height: 1em;\n",
       "  font-family: monospace;\n",
       "  background-color: var(--sklearn-color-background);\n",
       "  border-radius: 1rem;\n",
       "  height: 1rem;\n",
       "  width: 1rem;\n",
       "  text-decoration: none;\n",
       "  /* unfitted */\n",
       "  color: var(--sklearn-color-unfitted-level-1);\n",
       "  border: var(--sklearn-color-unfitted-level-1) 1pt solid;\n",
       "}\n",
       "\n",
       "#sk-container-id-1 a.estimator_doc_link.fitted {\n",
       "  /* fitted */\n",
       "  border: var(--sklearn-color-fitted-level-1) 1pt solid;\n",
       "  color: var(--sklearn-color-fitted-level-1);\n",
       "}\n",
       "\n",
       "/* On hover */\n",
       "#sk-container-id-1 a.estimator_doc_link:hover {\n",
       "  /* unfitted */\n",
       "  background-color: var(--sklearn-color-unfitted-level-3);\n",
       "  color: var(--sklearn-color-background);\n",
       "  text-decoration: none;\n",
       "}\n",
       "\n",
       "#sk-container-id-1 a.estimator_doc_link.fitted:hover {\n",
       "  /* fitted */\n",
       "  background-color: var(--sklearn-color-fitted-level-3);\n",
       "}\n",
       "</style><div id=\"sk-container-id-1\" class=\"sk-top-container\"><div class=\"sk-text-repr-fallback\"><pre>RandomizedSearchCV(estimator=KNeighborsClassifier(), n_jobs=-1,\n",
       "                   param_distributions={&#x27;metric&#x27;: [&#x27;manhattan&#x27;],\n",
       "                                        &#x27;n_neighbors&#x27;: [10, 20, 30, 40, 50,\n",
       "                                                        60]},\n",
       "                   random_state=0, verbose=1)</pre><b>In a Jupyter environment, please rerun this cell to show the HTML representation or trust the notebook. <br />On GitHub, the HTML representation is unable to render, please try loading this page with nbviewer.org.</b></div><div class=\"sk-container\" hidden><div class=\"sk-item sk-dashed-wrapped\"><div class=\"sk-label-container\"><div class=\"sk-label fitted sk-toggleable\"><input class=\"sk-toggleable__control sk-hidden--visually\" id=\"sk-estimator-id-1\" type=\"checkbox\" ><label for=\"sk-estimator-id-1\" class=\"sk-toggleable__label fitted sk-toggleable__label-arrow fitted\">&nbsp;&nbsp;RandomizedSearchCV<a class=\"sk-estimator-doc-link fitted\" rel=\"noreferrer\" target=\"_blank\" href=\"https://scikit-learn.org/1.5/modules/generated/sklearn.model_selection.RandomizedSearchCV.html\">?<span>Documentation for RandomizedSearchCV</span></a><span class=\"sk-estimator-doc-link fitted\">i<span>Fitted</span></span></label><div class=\"sk-toggleable__content fitted\"><pre>RandomizedSearchCV(estimator=KNeighborsClassifier(), n_jobs=-1,\n",
       "                   param_distributions={&#x27;metric&#x27;: [&#x27;manhattan&#x27;],\n",
       "                                        &#x27;n_neighbors&#x27;: [10, 20, 30, 40, 50,\n",
       "                                                        60]},\n",
       "                   random_state=0, verbose=1)</pre></div> </div></div><div class=\"sk-parallel\"><div class=\"sk-parallel-item\"><div class=\"sk-item\"><div class=\"sk-label-container\"><div class=\"sk-label fitted sk-toggleable\"><input class=\"sk-toggleable__control sk-hidden--visually\" id=\"sk-estimator-id-2\" type=\"checkbox\" ><label for=\"sk-estimator-id-2\" class=\"sk-toggleable__label fitted sk-toggleable__label-arrow fitted\">best_estimator_: KNeighborsClassifier</label><div class=\"sk-toggleable__content fitted\"><pre>KNeighborsClassifier(metric=&#x27;manhattan&#x27;, n_neighbors=40)</pre></div> </div></div><div class=\"sk-serial\"><div class=\"sk-item\"><div class=\"sk-estimator fitted sk-toggleable\"><input class=\"sk-toggleable__control sk-hidden--visually\" id=\"sk-estimator-id-3\" type=\"checkbox\" ><label for=\"sk-estimator-id-3\" class=\"sk-toggleable__label fitted sk-toggleable__label-arrow fitted\">&nbsp;KNeighborsClassifier<a class=\"sk-estimator-doc-link fitted\" rel=\"noreferrer\" target=\"_blank\" href=\"https://scikit-learn.org/1.5/modules/generated/sklearn.neighbors.KNeighborsClassifier.html\">?<span>Documentation for KNeighborsClassifier</span></a></label><div class=\"sk-toggleable__content fitted\"><pre>KNeighborsClassifier(metric=&#x27;manhattan&#x27;, n_neighbors=40)</pre></div> </div></div></div></div></div></div></div></div></div>"
      ],
      "text/plain": [
       "RandomizedSearchCV(estimator=KNeighborsClassifier(), n_jobs=-1,\n",
       "                   param_distributions={'metric': ['manhattan'],\n",
       "                                        'n_neighbors': [10, 20, 30, 40, 50,\n",
       "                                                        60]},\n",
       "                   random_state=0, verbose=1)"
      ]
     },
     "execution_count": 36,
     "metadata": {},
     "output_type": "execute_result"
    }
   ],
   "source": [
    "from sklearn.model_selection import RandomizedSearchCV\n",
    "from sklearn.neighbors import KNeighborsClassifier\n",
    "\n",
    "grid_params = { 'n_neighbors' : [10,20,30,40,50,60],\n",
    "               'metric' : ['manhattan']}\n",
    "\n",
    "knn=KNeighborsClassifier()\n",
    "clf = RandomizedSearchCV(knn, grid_params, random_state=0,n_jobs=-1,verbose=1)\n",
    "clf.fit(x_train_transformed,y_train)"
   ]
  },
  {
   "cell_type": "code",
   "execution_count": 37,
   "id": "c6b068ca",
   "metadata": {
    "papermill": {
     "duration": 1.35056,
     "end_time": "2021-11-05T20:09:23.739827",
     "exception": false,
     "start_time": "2021-11-05T20:09:22.389267",
     "status": "completed"
    },
    "tags": []
   },
   "outputs": [
    {
     "data": {
      "text/plain": [
       "{'n_neighbors': 40, 'metric': 'manhattan'}"
      ]
     },
     "execution_count": 37,
     "metadata": {},
     "output_type": "execute_result"
    }
   ],
   "source": [
    "clf.best_params_"
   ]
  },
  {
   "cell_type": "code",
   "execution_count": 38,
   "id": "4ef3a0a2",
   "metadata": {
    "papermill": {
     "duration": 1.607527,
     "end_time": "2021-11-05T20:09:26.713700",
     "exception": false,
     "start_time": "2021-11-05T20:09:25.106173",
     "status": "completed"
    },
    "tags": []
   },
   "outputs": [
    {
     "data": {
      "text/plain": [
       "0.6185499999999999"
      ]
     },
     "execution_count": 38,
     "metadata": {},
     "output_type": "execute_result"
    }
   ],
   "source": [
    "clf.best_score_"
   ]
  },
  {
   "cell_type": "code",
   "execution_count": 39,
   "id": "7994778b",
   "metadata": {
    "papermill": {
     "duration": 1.367369,
     "end_time": "2021-11-05T20:09:29.465689",
     "exception": false,
     "start_time": "2021-11-05T20:09:28.098320",
     "status": "completed"
    },
    "tags": []
   },
   "outputs": [
    {
     "data": {
      "text/plain": [
       "{'mean_fit_time': array([0.01918788, 0.01931906, 0.01935763, 0.01730866, 0.01473355,\n",
       "        0.01813393]),\n",
       " 'std_fit_time': array([0.00426238, 0.00300304, 0.00254137, 0.0034062 , 0.0030205 ,\n",
       "        0.00190448]),\n",
       " 'mean_score_time': array([5.50539894, 5.69673777, 5.4558548 , 8.18792453, 8.92190466,\n",
       "        9.00362639]),\n",
       " 'std_score_time': array([0.31620474, 0.38623909, 0.30395995, 1.42436141, 0.13296086,\n",
       "        0.07348845]),\n",
       " 'param_n_neighbors': masked_array(data=[10, 20, 30, 40, 50, 60],\n",
       "              mask=[False, False, False, False, False, False],\n",
       "        fill_value=999999),\n",
       " 'param_metric': masked_array(data=['manhattan', 'manhattan', 'manhattan', 'manhattan',\n",
       "                    'manhattan', 'manhattan'],\n",
       "              mask=[False, False, False, False, False, False],\n",
       "        fill_value='?',\n",
       "             dtype=object),\n",
       " 'params': [{'n_neighbors': 10, 'metric': 'manhattan'},\n",
       "  {'n_neighbors': 20, 'metric': 'manhattan'},\n",
       "  {'n_neighbors': 30, 'metric': 'manhattan'},\n",
       "  {'n_neighbors': 40, 'metric': 'manhattan'},\n",
       "  {'n_neighbors': 50, 'metric': 'manhattan'},\n",
       "  {'n_neighbors': 60, 'metric': 'manhattan'}],\n",
       " 'split0_test_score': array([0.58675, 0.61175, 0.62125, 0.631  , 0.62625, 0.625  ]),\n",
       " 'split1_test_score': array([0.5975 , 0.60025, 0.604  , 0.60325, 0.6025 , 0.6075 ]),\n",
       " 'split2_test_score': array([0.59   , 0.5995 , 0.6095 , 0.6175 , 0.61075, 0.61475]),\n",
       " 'split3_test_score': array([0.59975, 0.6095 , 0.61475, 0.62675, 0.622  , 0.62   ]),\n",
       " 'split4_test_score': array([0.58625, 0.593  , 0.6045 , 0.61425, 0.62   , 0.62   ]),\n",
       " 'mean_test_score': array([0.59205, 0.6028 , 0.6108 , 0.61855, 0.6163 , 0.61745]),\n",
       " 'std_test_score': array([0.00556642, 0.00690543, 0.00651805, 0.00975628, 0.00856067,\n",
       "        0.00593801]),\n",
       " 'rank_test_score': array([6, 5, 4, 1, 3, 2])}"
      ]
     },
     "execution_count": 39,
     "metadata": {},
     "output_type": "execute_result"
    }
   ],
   "source": [
    "clf.cv_results_"
   ]
  },
  {
   "cell_type": "markdown",
   "id": "39e06888",
   "metadata": {
    "papermill": {
     "duration": 1.350906,
     "end_time": "2021-11-05T20:09:32.224147",
     "exception": false,
     "start_time": "2021-11-05T20:09:30.873241",
     "status": "completed"
    },
    "tags": []
   },
   "source": [
    "# <center> Model Evaluation </center>"
   ]
  },
  {
   "cell_type": "markdown",
   "id": "62fdb615",
   "metadata": {
    "papermill": {
     "duration": 1.32708,
     "end_time": "2021-11-05T20:09:34.940526",
     "exception": false,
     "start_time": "2021-11-05T20:09:33.613446",
     "status": "completed"
    },
    "tags": []
   },
   "source": [
    "## ROC curve for Training and Testing Samples"
   ]
  },
  {
   "cell_type": "code",
   "execution_count": 40,
   "id": "02ba74f6",
   "metadata": {
    "papermill": {
     "duration": 849.959399,
     "end_time": "2021-11-05T20:23:46.248373",
     "exception": false,
     "start_time": "2021-11-05T20:09:36.288974",
     "status": "completed"
    },
    "tags": []
   },
   "outputs": [
    {
     "data": {
      "image/png": "[encoded data removed]",
      "text/plain": [
       "<Figure size 640x480 with 1 Axes>"
      ]
     },
     "metadata": {},
     "output_type": "display_data"
    }
   ],
   "source": [
    "from sklearn.metrics import roc_curve, auc,classification_report,confusion_matrix\n",
    "\n",
    "train_fpr,train_tpr,thresholds=roc_curve(y_train,clf.predict_proba(x_train_transformed)[:,1])\n",
    "test_fpr,test_tpr,thresholds=roc_curve(y_test,clf.predict_proba(x_test_transformed)[:,1])\n",
    "\n",
    "import matplotlib.pyplot as plt\n",
    "plt.plot(train_fpr,train_tpr,label=\"Training Accuracy=\"+str(round(auc(train_fpr, train_tpr),2)))\n",
    "plt.plot(test_fpr,test_tpr,label=\"Testing Accuracy =\"+str(round(auc(test_fpr, test_tpr),2)))\n",
    "plt.scatter(train_fpr,train_tpr,label=\"Training Accuracy=\"+str(round(auc(train_fpr, train_tpr),2)))\n",
    "plt.scatter(test_fpr,test_tpr,label=\"Testing Accuracy =\"+str(round(auc(test_fpr, test_tpr),2)))\n",
    "plt.legend()\n",
    "plt.xlabel(\"Thresholds\")\n",
    "plt.ylabel(\"ACCURACY\")\n",
    "plt.title(\"Training and Testing ROC Curves\")\n",
    "plt.show()"
   ]
  },
  {
   "cell_type": "markdown",
   "id": "9d48742a",
   "metadata": {
    "papermill": {
     "duration": 1.356702,
     "end_time": "2021-11-05T20:23:48.989809",
     "exception": false,
     "start_time": "2021-11-05T20:23:47.633107",
     "status": "completed"
    },
    "tags": []
   },
   "source": [
    "## Confusion Matrix and Classification Report for both Training and Testing Samples"
   ]
  },
  {
   "cell_type": "code",
   "execution_count": 41,
   "id": "082cea86",
   "metadata": {
    "papermill": {
     "duration": 574.413202,
     "end_time": "2021-11-05T20:33:24.791162",
     "exception": false,
     "start_time": "2021-11-05T20:23:50.377960",
     "status": "completed"
    },
    "tags": []
   },
   "outputs": [
    {
     "data": {
      "image/png": "[encoded data removed]",
      "text/plain": [
       "<Figure size 640x480 with 2 Axes>"
      ]
     },
     "metadata": {},
     "output_type": "display_data"
    }
   ],
   "source": [
    "sns.heatmap(confusion_matrix(y_train,clf.predict(x_train_transformed)),annot=True)\n",
    "plt.show()"
   ]
  },
  {
   "cell_type": "code",
   "execution_count": 42,
   "id": "7aec95fa",
   "metadata": {
    "papermill": {
     "duration": 283.096729,
     "end_time": "2021-11-05T20:38:09.261441",
     "exception": false,
     "start_time": "2021-11-05T20:33:26.164712",
     "status": "completed"
    },
    "tags": []
   },
   "outputs": [
    {
     "data": {
      "image/png": "[encoded data removed]",
      "text/plain": [
       "<Figure size 640x480 with 2 Axes>"
      ]
     },
     "metadata": {},
     "output_type": "display_data"
    }
   ],
   "source": [
    "sns.heatmap(confusion_matrix(y_test,clf.predict(x_test_transformed)),annot=True)\n",
    "plt.show()"
   ]
  },
  {
   "cell_type": "code",
   "execution_count": 43,
   "id": "0abf51e9",
   "metadata": {
    "papermill": {
     "duration": 573.101864,
     "end_time": "2021-11-05T20:47:43.688943",
     "exception": false,
     "start_time": "2021-11-05T20:38:10.587079",
     "status": "completed"
    },
    "tags": []
   },
   "outputs": [
    {
     "name": "stdout",
     "output_type": "stream",
     "text": [
      "              precision    recall  f1-score   support\n",
      "\n",
      "           0       0.65      0.67      0.66     10000\n",
      "           1       0.66      0.63      0.64     10000\n",
      "\n",
      "    accuracy                           0.65     20000\n",
      "   macro avg       0.65      0.65      0.65     20000\n",
      "weighted avg       0.65      0.65      0.65     20000\n",
      "\n"
     ]
    }
   ],
   "source": [
    "print(classification_report(y_train,clf.predict(x_train_transformed)))"
   ]
  },
  {
   "cell_type": "code",
   "execution_count": 44,
   "id": "51cdffc6",
   "metadata": {
    "papermill": {
     "duration": 284.334518,
     "end_time": "2021-11-05T20:52:29.622224",
     "exception": false,
     "start_time": "2021-11-05T20:47:45.287706",
     "status": "completed"
    },
    "tags": []
   },
   "outputs": [
    {
     "name": "stdout",
     "output_type": "stream",
     "text": [
      "              precision    recall  f1-score   support\n",
      "\n",
      "           0       0.61      0.62      0.62      2500\n",
      "           1       0.61      0.60      0.61      2500\n",
      "\n",
      "    accuracy                           0.61      5000\n",
      "   macro avg       0.61      0.61      0.61      5000\n",
      "weighted avg       0.61      0.61      0.61      5000\n",
      "\n"
     ]
    }
   ],
   "source": [
    "print(classification_report(y_test,clf.predict(x_test_transformed)))"
   ]
  }
 ],
 "metadata": {
  "kernelspec": {
   "display_name": "Python 3 (ipykernel)",
   "language": "python",
   "name": "python3"
  },
  "language_info": {
   "codemirror_mode": {
    "name": "ipython",
    "version": 3
   },
   "file_extension": ".py",
   "mimetype": "text/x-python",
   "name": "python",
   "nbconvert_exporter": "python",
   "pygments_lexer": "ipython3",
   "version": "3.11.7"
  },
  "papermill": {
   "default_parameters": {},
   "duration": 4988.240245,
   "end_time": "2021-11-05T20:52:35.311936",
   "environment_variables": {},
   "exception": null,
   "input_path": "__notebook__.ipynb",
   "output_path": "__notebook__.ipynb",
   "parameters": {},
   "start_time": "2021-11-05T19:29:27.071691",
   "version": "2.3.3"
  }
 },
 "nbformat": 4,
 "nbformat_minor": 5
}
